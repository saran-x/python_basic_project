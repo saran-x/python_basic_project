{
 "cells": [
  {
   "cell_type": "code",
   "execution_count": 1,
   "id": "688ede65",
   "metadata": {},
   "outputs": [],
   "source": [
    "import numpy as np\n",
    "import pandas as pd"
   ]
  },
  {
   "cell_type": "code",
   "execution_count": 2,
   "id": "5d7b55aa",
   "metadata": {},
   "outputs": [
    {
     "name": "stdout",
     "output_type": "stream",
     "text": [
      "           date  product_id product_name     category  units_sold  unit_price  \\\n",
      "0    2023-01-01         101     Widget A  Electronics          10          50   \n",
      "1    2023-01-01         102     Widget B  Electronics          16          30   \n",
      "2    2023-01-01         103     Gadget X         Home          17          40   \n",
      "3    2023-01-01         104     Gadget Y         Home          13          35   \n",
      "4    2023-01-01         105   Tool Alpha        Tools          14          60   \n",
      "..          ...         ...          ...          ...         ...         ...   \n",
      "175  2023-01-30         102     Widget B  Electronics           7          30   \n",
      "176  2023-01-30         103     Gadget X         Home          15          40   \n",
      "177  2023-01-30         104     Gadget Y         Home          11          35   \n",
      "178  2023-01-30         105   Tool Alpha        Tools           5          60   \n",
      "179  2023-01-30         106    Tool Beta        Tools          14          45   \n",
      "\n",
      "     revenue  \n",
      "0        500  \n",
      "1        480  \n",
      "2        680  \n",
      "3        455  \n",
      "4        840  \n",
      "..       ...  \n",
      "175      210  \n",
      "176      600  \n",
      "177      385  \n",
      "178      300  \n",
      "179      630  \n",
      "\n",
      "[180 rows x 7 columns]\n"
     ]
    }
   ],
   "source": [
    "#load dataset\n",
    "df=pd.read_csv(\"sales_data.csv\")\n",
    "print(df)"
   ]
  },
  {
   "cell_type": "code",
   "execution_count": null,
   "id": "50ee2b57",
   "metadata": {},
   "outputs": [],
   "source": [
    "# What is the total number of records in the dataset?\n",
    "print(\"total number of records :\",len(df))\n",
    "# Are there any missing values in the dataset\n",
    "print('missing value in datasets:',df.isnull().sum())"
   ]
  },
  {
   "cell_type": "code",
   "execution_count": null,
   "id": "c63792f5",
   "metadata": {},
   "outputs": [],
   "source": [
    "# What is the total revenue generated per product?\n",
    "print('total revenue for per product :',df.groupby(\"category\")[\"revenue\"].sum())\n",
    "# What is the total units sold per product category?\n",
    "print('total unit sold per product:',df.groupby('category')['units_sold'].sum())"
   ]
  },
  {
   "cell_type": "code",
   "execution_count": null,
   "id": "91204f89",
   "metadata": {},
   "outputs": [],
   "source": [
    "# What are the mean, median, and standard deviation of units_sold and revenue?\n",
    "print(f\"mean value of units sold:{df[\"units_sold\"].mean():.2f}\")\n",
    "print(\"mean value of revenue: \",df[\"revenue\"].mean())\n",
    "print(\"median of units sold: \",df[\"units_sold\"].median())\n",
    "print(\"median of revenue: \",df[\"revenue\"].median())\n",
    "std_units_sold=np.std(df['units_sold'])\n",
    "print(\"std of unit_sold :\",round(std_units_sold))\n",
    "std_revenue=np.std(df['revenue'])\n",
    "print(\"std of revenue: \",round(std_revenue))\n",
    "# Which day had the highest revenue?\n",
    "daily_revenue=df.groupby('date')['revenue'].sum()\n",
    "max_revenue_day=daily_revenue.idxmax()\n",
    "max_value=daily_revenue.max()\n",
    "print(f\"maximum revenue of day: {max_revenue_day} revenue value:{max_value}\")"
   ]
  },
  {
   "cell_type": "code",
   "execution_count": null,
   "id": "9e1854be",
   "metadata": {},
   "outputs": [],
   "source": [
    "#Calculate the rolling average of daily revenue (window = 3)\n",
    "rolling=df[\"revenue\"].rolling(window=3).mean()\n",
    "print(round(rolling))"
   ]
  },
  {
   "cell_type": "code",
   "execution_count": 8,
   "id": "ff0447df",
   "metadata": {},
   "outputs": [
    {
     "name": "stdout",
     "output_type": "stream",
     "text": [
      "days:8, revenue:3026\n",
      "days:9, revenue:3018\n",
      "days:10, revenue:3009\n",
      "days:11, revenue:3001\n",
      "days:12, revenue:2993\n",
      "days:13, revenue:2985\n",
      "days:14, revenue:2976\n"
     ]
    }
   ],
   "source": [
    "#Using linear regression, predict the next 7 days’ total revenue based on previous data.\n",
    "x=[1,2,3,4,5,6,7]\n",
    "y=df.groupby('date')[\"revenue\"].sum().tail(7).values\n",
    "next_week=np.array([8,9,10,11,12,13,14])\n",
    "slope,intercept=np.polyfit(x,y,1)\n",
    "predict_revenue=slope*next_week+intercept\n",
    "for day,revenue in zip(next_week,predict_revenue):\n",
    "    print(f\"days:{day}, revenue:{round(revenue)}\")"
   ]
  },
  {
   "cell_type": "code",
   "execution_count": null,
   "id": "19d040d3",
   "metadata": {},
   "outputs": [],
   "source": [
    "#What are the top 5 products by total revenue \n",
    "print(f\"top 5 product total revenue{df.nlargest(5,\"revenue\")}\")\n",
    "#Which category contributes most to overall revenue\n",
    "group_category=df.groupby('category')[\"revenue\"].sum()\n",
    "high_category=group_category.idxmax()\n",
    "high_revenue=group_category.max()\n",
    "print(f\"overall high revenue category :{high_category} , revenue {high_revenue} \")"
   ]
  },
  {
   "cell_type": "code",
   "execution_count": null,
   "id": "e30298aa",
   "metadata": {},
   "outputs": [],
   "source": [
    "#Find days where revenue was significantly higher than the rolling average (possible anomalies).\n",
    "df[\"rolling_avg\"]=round(df['revenue'].rolling(window=3).mean())\n",
    "thers_hold=1.2\n",
    "df[\"anomaly\"]=df[\"revenue\"] > (thers_hold * df[\"rolling_avg\"])\n",
    "print(f\"anomaly vaules : {df[\"anoaly\"]}\")\n",
    "# How does average revenue per unit change over time?\n",
    "total_revenue=df.groupby('date')['revenue'].sum()\n",
    "total_unit_sold=df.groupby('date')['units_sold'].sum()\n",
    "total_perunit_revenue=total_revenue/total_unit_sold\n",
    "print(f\"average revenue per unit{round(total_perunit_revenue) }\")"
   ]
  },
  {
   "cell_type": "code",
   "execution_count": null,
   "id": "32b2a51b",
   "metadata": {},
   "outputs": [],
   "source": []
  }
 ],
 "metadata": {
  "kernelspec": {
   "display_name": "Python 3",
   "language": "python",
   "name": "python3"
  },
  "language_info": {
   "codemirror_mode": {
    "name": "ipython",
    "version": 3
   },
   "file_extension": ".py",
   "mimetype": "text/x-python",
   "name": "python",
   "nbconvert_exporter": "python",
   "pygments_lexer": "ipython3",
   "version": "3.13.7"
  }
 },
 "nbformat": 4,
 "nbformat_minor": 5
}
