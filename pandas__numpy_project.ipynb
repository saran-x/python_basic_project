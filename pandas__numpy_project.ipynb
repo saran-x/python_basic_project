{
 "cells": [
  {
   "cell_type": "code",
   "execution_count": null,
   "id": "160c6ab6",
   "metadata": {},
   "outputs": [
    {
     "name": "stdout",
     "output_type": "stream",
     "text": [
      "           date  product_id product_name     category  units_sold  unit_price  \\\n",
      "0    2023-01-01         101     Widget A  Electronics          10          50   \n",
      "1    2023-01-01         102     Widget B  Electronics          16          30   \n",
      "2    2023-01-01         103     Gadget X         Home          17          40   \n",
      "3    2023-01-01         104     Gadget Y         Home          13          35   \n",
      "4    2023-01-01         105   Tool Alpha        Tools          14          60   \n",
      "..          ...         ...          ...          ...         ...         ...   \n",
      "175  2023-01-30         102     Widget B  Electronics           7          30   \n",
      "176  2023-01-30         103     Gadget X         Home          15          40   \n",
      "177  2023-01-30         104     Gadget Y         Home          11          35   \n",
      "178  2023-01-30         105   Tool Alpha        Tools           5          60   \n",
      "179  2023-01-30         106    Tool Beta        Tools          14          45   \n",
      "\n",
      "     revenue  \n",
      "0        500  \n",
      "1        480  \n",
      "2        680  \n",
      "3        455  \n",
      "4        840  \n",
      "..       ...  \n",
      "175      210  \n",
      "176      600  \n",
      "177      385  \n",
      "178      300  \n",
      "179      630  \n",
      "\n",
      "[180 rows x 7 columns]\n"
     ]
    }
   ],
   "source": [
    "import pandas as pd\n",
    "import numpy as np\n",
    "df=pd.read_csv('sales_data.csv')\n",
    "print(df)"
   ]
  },
  {
   "cell_type": "code",
   "execution_count": null,
   "id": "cb522ddb",
   "metadata": {},
   "outputs": [],
   "source": [
    "#Check for missing values\n",
    "df.isnull()\n",
    "#Fix any incorrect data types (e.g., dates).\n",
    "#first change the datetime ns\n",
    "df['date']=pd.to_datetime(df['date'])\n",
    "#second change the 'int64'\n",
    "df['date']=df['date'].astype('int64')\n",
    "df.dtypes\n"
   ]
  },
  {
   "cell_type": "code",
   "execution_count": null,
   "id": "fcf62732",
   "metadata": {},
   "outputs": [],
   "source": [
    "#Calculate total revenue per product.\n",
    "print(df.groupby('product_name')['revenue'].sum())\n",
    "#Calculate total units sold per category\n",
    "print(df.groupby('category')['units_sold'].sum())"
   ]
  },
  {
   "cell_type": "code",
   "execution_count": 3,
   "id": "232768f3",
   "metadata": {},
   "outputs": [
    {
     "name": "stdout",
     "output_type": "stream",
     "text": [
      "mean sold_value :12.17\n",
      "mean revenue_value :522.00\n",
      "median sold_value: 12.0\n",
      "median revenue_value: 540.0\n",
      "std deviation of unit_sold:4.24\n",
      "std deviation of revenue:203.46\n"
     ]
    }
   ],
   "source": [
    "#Find mean, median, std deviation of units_sold and revenue using NumPy functions.\n",
    "#mean value of sold and revenue\n",
    "mean_sold=df['units_sold'].mean()\n",
    "mean_revenue=df['revenue'].mean()\n",
    "print(f\"mean sold_value :{mean_sold:.2f}\")\n",
    "print(f\"mean revenue_value :{mean_revenue:.2f}\")\n",
    "#median of sold and revenue\n",
    "print(\"median sold_value:\",np.median(df['units_sold']))\n",
    "print(\"median revenue_value:\",np.median(df['revenue']))\n",
    "#std deviation sold\n",
    "std_deviaton_sold=[df['units_sold']]\n",
    "std_sold=np.std(std_deviaton_sold)\n",
    "print(f\"std deviation of unit_sold:{std_sold:.2f}\")\n",
    "#std deviation revenue\n",
    "std_deviaton_revenue=[df['revenue']]\n",
    "std_revenue=np.std(std_deviaton_revenue)\n",
    "print(f\"std deviation of revenue:{std_revenue:.2f}\")"
   ]
  },
  {
   "cell_type": "code",
   "execution_count": null,
   "id": "fd1df553",
   "metadata": {},
   "outputs": [],
   "source": [
    "#Calculate rolling average of daily revenue (using .rolling() in Pandas)\n",
    "print(f\"calculate a rolling avg of revenue: {df['revenue'].rolling(window=3).mean()}\")"
   ]
  },
  {
   "cell_type": "code",
   "execution_count": null,
   "id": "2b0ce5bb",
   "metadata": {},
   "outputs": [],
   "source": [
    "#Use NumPy’s linear regression (e.g., np.polyfit) to predict next week’s total sales based on previous days.\n",
    "x=[1,2,3,4,5,6,7]\n",
    "y=df.groupby(\"date\")[\"revenue\"].sum().tail(7).values\n",
    "next_week=np.array([8,9,10,11,12,13,14])\n",
    "slope,intercept=np.polyfit(x,y,1)\n",
    "pridict_revenue=slope*next_week+intercept\n",
    "for day ,revenue in zip(next_week,pridict_revenue):\n",
    "    print(f\"days: {day} revenue: {round(revenue)}\")"
   ]
  },
  {
   "cell_type": "code",
   "execution_count": null,
   "id": "157b1ca0",
   "metadata": {},
   "outputs": [],
   "source": [
    "#Print top 5 best-selling products by revenue.\n",
    "top_5_revenue=df.nlargest(5,'revenue')\n",
    "print(top_5_revenue.sort_values(by='revenue',ascending=True).head(5))\n",
    "#Identify categories with highest total revenue\n",
    "print(\"highest total revenue \",df.groupby('category')['revenue'].sum().head(1))"
   ]
  },
  {
   "cell_type": "code",
   "execution_count": null,
   "id": "6329dd5b",
   "metadata": {},
   "outputs": [],
   "source": []
  }
 ],
 "metadata": {
  "kernelspec": {
   "display_name": "Python 3",
   "language": "python",
   "name": "python3"
  },
  "language_info": {
   "codemirror_mode": {
    "name": "ipython",
    "version": 3
   },
   "file_extension": ".py",
   "mimetype": "text/x-python",
   "name": "python",
   "nbconvert_exporter": "python",
   "pygments_lexer": "ipython3",
   "version": "3.13.7"
  }
 },
 "nbformat": 4,
 "nbformat_minor": 5
}
